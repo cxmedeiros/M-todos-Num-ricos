{
  "cells": [
    {
      "cell_type": "markdown",
      "metadata": {
        "id": "view-in-github",
        "colab_type": "text"
      },
      "source": [
        "<a href=\"https://colab.research.google.com/github/cxmedeiros/MetodosNumericos/blob/main/Camila_quest%C3%A3o_6_LIsta_1.ipynb\" target=\"_parent\"><img src=\"https://colab.research.google.com/assets/colab-badge.svg\" alt=\"Open In Colab\"/></a>"
      ]
    },
    {
      "cell_type": "markdown",
      "source": [
        "# **Questão *6*** - lista 1 - Métodos numéricos"
      ],
      "metadata": {
        "id": "zweJzJWFvhCI"
      }
    },
    {
      "cell_type": "markdown",
      "source": [
        "**importando as bibliotecas necessárias**"
      ],
      "metadata": {
        "id": "4GlNb6uzutQv"
      }
    },
    {
      "cell_type": "code",
      "source": [
        "import numpy as np\n",
        "from scipy.integrate import odeint\n",
        "import matplotlib.pyplot as plt"
      ],
      "metadata": {
        "id": "0T40YzEOv9qe"
      },
      "execution_count": null,
      "outputs": []
    },
    {
      "cell_type": "markdown",
      "source": [
        "**Definindo o modelo**"
      ],
      "metadata": {
        "id": "lukz-VxewBTo"
      }
    },
    {
      "cell_type": "code",
      "source": [
        "def model(y,t, a):\n",
        "    dydt = a * y * (1-y)\n",
        "    return dydt"
      ],
      "metadata": {
        "id": "NhRyfgQmwIqD"
      },
      "execution_count": null,
      "outputs": []
    },
    {
      "cell_type": "markdown",
      "source": [
        "**Definindo a condição inicial**"
      ],
      "metadata": {
        "id": "LplvwRGNwK_0"
      }
    },
    {
      "cell_type": "code",
      "source": [
        "y0 = 0.02\n",
        "a = 0.2"
      ],
      "metadata": {
        "id": "gE1N1l3WwO_k"
      },
      "execution_count": null,
      "outputs": []
    },
    {
      "cell_type": "markdown",
      "source": [
        "**Definindo o intervalo de tempo**"
      ],
      "metadata": {
        "id": "9LBTyaz7yE8b"
      }
    },
    {
      "cell_type": "code",
      "source": [
        "t = np.linspace(0, 100, 200)"
      ],
      "metadata": {
        "id": "6k3i4K7dyIjc"
      },
      "execution_count": null,
      "outputs": []
    },
    {
      "cell_type": "markdown",
      "source": [
        "**Resolvendo a EDO**"
      ],
      "metadata": {
        "id": "iAhI4r70yL51"
      }
    },
    {
      "cell_type": "code",
      "source": [
        "y = odeint(model, y0, t, args=(a,))"
      ],
      "metadata": {
        "id": "Ky2aYrEkyN8i"
      },
      "execution_count": null,
      "outputs": []
    },
    {
      "cell_type": "markdown",
      "source": [
        "**Visualizando o resultado**"
      ],
      "metadata": {
        "id": "IHYi4IoUySH3"
      }
    },
    {
      "cell_type": "code",
      "source": [
        "plt.plot(t, y)\n",
        "plt.xlabel('time')\n",
        "plt.ylabel('y(t)')\n",
        "plt.show()"
      ],
      "metadata": {
        "colab": {
          "base_uri": "https://localhost:8080/",
          "height": 279
        },
        "id": "PjLaXFVwyWvT",
        "outputId": "7723a819-729e-4b0c-87aa-52cafbe88bf1"
      },
      "execution_count": null,
      "outputs": [
        {
          "output_type": "display_data",
          "data": {
            "text/plain": [
              "<Figure size 432x288 with 1 Axes>"
            ],
            "image/png": "[encoded data removed]"
          },
          "metadata": {
            "needs_background": "light"
          }
        }
      ]
    }
  ],
  "metadata": {
    "colab": {
      "provenance": [],
      "include_colab_link": true
    },
    "kernelspec": {
      "display_name": "Python 3",
      "name": "python3"
    }
  },
  "nbformat": 4,
  "nbformat_minor": 0
}