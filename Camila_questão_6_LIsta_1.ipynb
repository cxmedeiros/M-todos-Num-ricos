{
  "cells": [
    {
      "cell_type": "markdown",
      "metadata": {
        "id": "view-in-github",
        "colab_type": "text"
      },
      "source": [
        "<a href=\"https://colab.research.google.com/github/cxmedeiros/MetodosNumericos/blob/main/Camila_quest%C3%A3o_6_LIsta_1.ipynb\" target=\"_parent\"><img src=\"https://colab.research.google.com/assets/colab-badge.svg\" alt=\"Open In Colab\"/></a>"
      ]
    },
    {
      "cell_type": "markdown",
      "source": [
        "# **Questão *6*** - lista 1 - Métodos numéricos"
      ],
      "metadata": {
        "id": "zweJzJWFvhCI"
      }
    },
    {
      "cell_type": "markdown",
      "source": [
        "**letra a**"
      ],
      "metadata": {
        "id": "9kJgAb7rBKia"
      }
    },
    {
      "cell_type": "markdown",
      "source": [
        "**importando as bibliotecas necessárias**"
      ],
      "metadata": {
        "id": "4GlNb6uzutQv"
      }
    },
    {
      "cell_type": "code",
      "source": [
        "import numpy as np\n",
        "from scipy.integrate import odeint\n",
        "import matplotlib.pyplot as plt"
      ],
      "metadata": {
        "id": "0T40YzEOv9qe"
      },
      "execution_count": null,
      "outputs": []
    },
    {
      "cell_type": "markdown",
      "source": [
        "**Definindo o modelo**"
      ],
      "metadata": {
        "id": "lukz-VxewBTo"
      }
    },
    {
      "cell_type": "code",
      "source": [
        "def function_i (y, t):\n",
        "  dydt = (y + 4) * np.cos(t)\n",
        "  return dydt"
      ],
      "metadata": {
        "id": "NhRyfgQmwIqD"
      },
      "execution_count": null,
      "outputs": []
    },
    {
      "cell_type": "markdown",
      "source": [
        "**Definindo a condição inicial**"
      ],
      "metadata": {
        "id": "LplvwRGNwK_0"
      }
    },
    {
      "cell_type": "code",
      "source": [
        "y0 = 1"
      ],
      "metadata": {
        "id": "gE1N1l3WwO_k"
      },
      "execution_count": null,
      "outputs": []
    },
    {
      "cell_type": "markdown",
      "source": [
        "**Definindo o intervalo de tempo**"
      ],
      "metadata": {
        "id": "9LBTyaz7yE8b"
      }
    },
    {
      "cell_type": "code",
      "source": [
        "gap = np.linspace(0, 55.0, 500)"
      ],
      "metadata": {
        "id": "6k3i4K7dyIjc"
      },
      "execution_count": null,
      "outputs": []
    },
    {
      "cell_type": "markdown",
      "source": [
        "**Resolvendo a EDO**"
      ],
      "metadata": {
        "id": "iAhI4r70yL51"
      }
    },
    {
      "cell_type": "code",
      "source": [
        "y = odeint(function_i, y0, gap)"
      ],
      "metadata": {
        "id": "Ky2aYrEkyN8i"
      },
      "execution_count": null,
      "outputs": []
    },
    {
      "cell_type": "markdown",
      "source": [
        "**Visualizando o resultado**"
      ],
      "metadata": {
        "id": "IHYi4IoUySH3"
      }
    },
    {
      "cell_type": "code",
      "source": [
        "plt.plot(gap, y, color = \"purple\")\n",
        "plt.xlabel(\"gap\")\n",
        "plt.ylabel(\"y(t)\")\n",
        "plt.show()"
      ],
      "metadata": {
        "colab": {
          "base_uri": "https://localhost:8080/",
          "height": 280
        },
        "id": "PjLaXFVwyWvT",
        "outputId": "9108d212-af43-434d-83b1-42f03570a983"
      },
      "execution_count": null,
      "outputs": [
        {
          "output_type": "display_data",
          "data": {
            "text/plain": [
              "<Figure size 432x288 with 1 Axes>"
            ],
            "image/png": "[encoded data removed]"
          },
          "metadata": {
            "needs_background": "light"
          }
        }
      ]
    },
    {
      "cell_type": "markdown",
      "source": [
        "**Letra b**"
      ],
      "metadata": {
        "id": "JW01iIgU-yu-"
      }
    },
    {
      "cell_type": "markdown",
      "source": [
        "**Definindo o modelo**"
      ],
      "metadata": {
        "id": "_elQIn7M-74N"
      }
    },
    {
      "cell_type": "code",
      "source": [
        "def function_ii (y, t):\n",
        "  dydt = y * np.exp(t)\n",
        "  return dydt"
      ],
      "metadata": {
        "id": "jOG25_Gg_Low"
      },
      "execution_count": null,
      "outputs": []
    },
    {
      "cell_type": "markdown",
      "source": [
        "**Definindo a condição inicial**"
      ],
      "metadata": {
        "id": "EiOh6-x8_aN0"
      }
    },
    {
      "cell_type": "code",
      "source": [
        "y0 = 1"
      ],
      "metadata": {
        "id": "CNdVuSQs-5AP"
      },
      "execution_count": null,
      "outputs": []
    },
    {
      "cell_type": "markdown",
      "source": [
        "**Definindo o intervalo de tempo**"
      ],
      "metadata": {
        "id": "gRD8GhDr_pdq"
      }
    },
    {
      "cell_type": "code",
      "source": [
        "gap = np.linspace(0, 1.0)"
      ],
      "metadata": {
        "id": "l9RI_Ohh_uTU"
      },
      "execution_count": null,
      "outputs": []
    },
    {
      "cell_type": "markdown",
      "source": [
        "**Resolvendo a EDO**"
      ],
      "metadata": {
        "id": "frY0MWhL_zWz"
      }
    },
    {
      "cell_type": "code",
      "source": [
        "y = odeint(function_ii, y0, gap)\n"
      ],
      "metadata": {
        "id": "Nne2xHQ7_3fc"
      },
      "execution_count": null,
      "outputs": []
    },
    {
      "cell_type": "markdown",
      "source": [
        "**Visualizando o resultado**"
      ],
      "metadata": {
        "id": "hI7PtILi_8p7"
      }
    },
    {
      "cell_type": "code",
      "source": [
        "plt.plot(gap, y, color = \"deeppink\")\n",
        "plt.xlabel(\"gap\")\n",
        "plt.ylabel(\"y(t)\")\n",
        "plt.show()"
      ],
      "metadata": {
        "colab": {
          "base_uri": "https://localhost:8080/",
          "height": 279
        },
        "id": "nvPXmU8nAaOo",
        "outputId": "ced2fa89-221e-4d1b-f733-eb9944c4a6a9"
      },
      "execution_count": null,
      "outputs": [
        {
          "output_type": "display_data",
          "data": {
            "text/plain": [
              "<Figure size 432x288 with 1 Axes>"
            ],
            "image/png": "[encoded data removed]"
          },
          "metadata": {
            "needs_background": "light"
          }
        }
      ]
    }
  ],
  "metadata": {
    "colab": {
      "provenance": [],
      "include_colab_link": true
    },
    "kernelspec": {
      "display_name": "Python 3",
      "name": "python3"
    }
  },
  "nbformat": 4,
  "nbformat_minor": 0
}